{
 "metadata": {
  "language_info": {
   "codemirror_mode": {
    "name": "ipython",
    "version": 3
   },
   "file_extension": ".py",
   "mimetype": "text/x-python",
   "name": "python",
   "nbconvert_exporter": "python",
   "pygments_lexer": "ipython3",
   "version": "3.6.9-final"
  },
  "orig_nbformat": 2,
  "kernelspec": {
   "name": "python36964bitdb09bfd17c504f20a7502d28f80ceca1",
   "display_name": "Python 3.6.9 64-bit"
  }
 },
 "nbformat": 4,
 "nbformat_minor": 2,
 "cells": [
  {
   "cell_type": "code",
   "execution_count": 1,
   "metadata": {},
   "outputs": [],
   "source": [
    "import json\n",
    "import pandas as pd\n",
    "import numpy as np\n",
    "import sys\n",
    "import glob\n",
    "\n",
    "sys.path.insert(0, '../includes/')\n",
    "import helper\n",
    "import plot_config"
   ]
  },
  {
   "cell_type": "code",
   "execution_count": 2,
   "metadata": {},
   "outputs": [],
   "source": [
    "d1 = pd.read_csv(\"test-toolchain-mc.csv\", index_col=0)\n",
    "d2 = pd.read_csv(\"test-umass-mc.csv\", index_col=0)\n",
    "maxValObj_1 = d1.max()\n",
    "maxValObj_2 = d2.max()"
   ]
  },
  {
   "cell_type": "code",
   "execution_count": 3,
   "metadata": {},
   "outputs": [],
   "source": [
    "min_timesteps_1 = np.array([\n",
    "    maxValObj_1[\"Trial-1\"],\n",
    "    maxValObj_1[\"Trial-2\"],\n",
    "    maxValObj_1[\"Trial-3\"],\n",
    "    maxValObj_1[\"Trial-4\"],\n",
    "    maxValObj_1[\"Trial-5\"],\n",
    "    maxValObj_1[\"Trial-6\"],\n",
    "    maxValObj_1[\"Trial-7\"],\n",
    "    maxValObj_1[\"Trial-8\"],\n",
    "    maxValObj_1[\"Trial-9\"],\n",
    "    maxValObj_1[\"Trial-10\"]\n",
    "])\n",
    "\n",
    "min_timesteps_2 = np.array([\n",
    "    maxValObj_2[\"0\"],\n",
    "    maxValObj_2[\"1\"],\n",
    "    maxValObj_2[\"2\"],\n",
    "    maxValObj_2[\"3\"],\n",
    "    maxValObj_2[\"4\"],\n",
    "    maxValObj_2[\"5\"],\n",
    "    maxValObj_2[\"6\"],\n",
    "    maxValObj_2[\"7\"],\n",
    "    maxValObj_2[\"8\"],\n",
    "    maxValObj_2[\"9\"]\n",
    "])\n",
    "min_timesteps_1 = (-1)*min_timesteps_1\n",
    "min_timesteps_2 = (-1)*min_timesteps_2"
   ]
  },
  {
   "cell_type": "code",
   "execution_count": 4,
   "metadata": {},
   "outputs": [
    {
     "output_type": "execute_result",
     "data": {
      "text/plain": [
       "array([83., 84., 84., 83., 85., 83., 84., 83., 84., 83.])"
      ]
     },
     "metadata": {},
     "execution_count": 4
    }
   ],
   "source": [
    "min_timesteps_1"
   ]
  },
  {
   "cell_type": "code",
   "execution_count": 5,
   "metadata": {},
   "outputs": [
    {
     "output_type": "execute_result",
     "data": {
      "text/plain": [
       "array([113., 118., 126., 112., 115., 108., 108., 112., 116., 105.])"
      ]
     },
     "metadata": {},
     "execution_count": 5
    }
   ],
   "source": [
    "min_timesteps_2"
   ]
  },
  {
   "cell_type": "code",
   "execution_count": 36,
   "metadata": {},
   "outputs": [],
   "source": [
    "source = ColumnDataSource(dict(\n",
    "    x = np.array(range(10)),\n",
    "    y1 = min_timesteps_1,\n",
    "    y2 = min_timesteps_2\n",
    "))\n",
    "\n",
    "trials = [\"Trial-1\", \"Trial-2\",\"Trial-3\",\"Trial-4\",\"Trial-5\",\"Trial-6\",\"Trial-7\",\"Trial-8\",\"Trial-9\",\"Trial-10\"]\n",
    "frameworks = [\"NEST\", \"UMASS\"]\n",
    "\n",
    "data = {\n",
    "    \"Trials\": trials,\n",
    "    \"Rate neurons (NEST)\": min_timesteps_1,\n",
    "    \"Spiking actors (UMASS)\": min_timesteps_2\n",
    "}\n"
   ]
  },
  {
   "cell_type": "code",
   "execution_count": 59,
   "metadata": {},
   "outputs": [
    {
     "output_type": "display_data",
     "data": {
      "text/html": "\n\n\n\n\n\n  <div class=\"bk-root\" id=\"039ef3c5-aea0-4cea-b3a7-ee949e800301\" data-root-id=\"7699\"></div>\n"
     },
     "metadata": {}
    },
    {
     "output_type": "display_data",
     "data": {
      "application/javascript": "(function(root) {\n  function embed_document(root) {\n    \n  var docs_json = {\"2aed93eb-a246-4261-9170-c2745ffbaa9c\":{\"roots\":{\"references\":[{\"attributes\":{\"below\":[{\"id\":\"7710\"}],\"center\":[{\"id\":\"7712\"},{\"id\":\"7716\"},{\"id\":\"7745\"}],\"left\":[{\"id\":\"7713\"}],\"plot_height\":400,\"renderers\":[{\"id\":\"7735\"},{\"id\":\"7751\"}],\"title\":{\"id\":\"7700\"},\"toolbar\":{\"id\":\"7724\"},\"x_range\":{\"id\":\"7702\"},\"x_scale\":{\"id\":\"7706\"},\"y_range\":{\"id\":\"7704\"},\"y_scale\":{\"id\":\"7708\"}},\"id\":\"7699\",\"subtype\":\"Figure\",\"type\":\"Plot\"},{\"attributes\":{\"text\":\"TD learning in SNN: Mountaincar (Least timesteps per trial)\"},\"id\":\"7700\",\"type\":\"Title\"},{\"attributes\":{},\"id\":\"7721\",\"type\":\"ResetTool\"},{\"attributes\":{\"source\":{\"id\":\"7698\"}},\"id\":\"7736\",\"type\":\"CDSView\"},{\"attributes\":{\"bottom_units\":\"screen\",\"fill_alpha\":0.5,\"fill_color\":\"lightgrey\",\"left_units\":\"screen\",\"level\":\"overlay\",\"line_alpha\":1.0,\"line_color\":\"black\",\"line_dash\":[4,4],\"line_width\":2,\"right_units\":\"screen\",\"top_units\":\"screen\"},\"id\":\"7723\",\"type\":\"BoxAnnotation\"},{\"attributes\":{\"data_source\":{\"id\":\"7698\"},\"glyph\":{\"id\":\"7749\"},\"hover_glyph\":null,\"muted_glyph\":null,\"nonselection_glyph\":{\"id\":\"7750\"},\"selection_glyph\":null,\"view\":{\"id\":\"7752\"}},\"id\":\"7751\",\"type\":\"GlyphRenderer\"},{\"attributes\":{\"data_source\":{\"id\":\"7698\"},\"glyph\":{\"id\":\"7733\"},\"hover_glyph\":null,\"muted_glyph\":null,\"nonselection_glyph\":{\"id\":\"7734\"},\"selection_glyph\":null,\"view\":{\"id\":\"7736\"}},\"id\":\"7735\",\"type\":\"GlyphRenderer\"},{\"attributes\":{\"range\":{\"id\":\"7702\"},\"value\":-0.25},\"id\":\"7731\",\"type\":\"Dodge\"},{\"attributes\":{},\"id\":\"7740\",\"type\":\"CategoricalTickFormatter\"},{\"attributes\":{},\"id\":\"7718\",\"type\":\"WheelZoomTool\"},{\"attributes\":{\"label\":{\"value\":\"Rate neurons (NEST)\"},\"renderers\":[{\"id\":\"7735\"}]},\"id\":\"7746\",\"type\":\"LegendItem\"},{\"attributes\":{},\"id\":\"7743\",\"type\":\"UnionRenderers\"},{\"attributes\":{\"factors\":[\"Trial-1\",\"Trial-2\",\"Trial-3\",\"Trial-4\",\"Trial-5\",\"Trial-6\",\"Trial-7\",\"Trial-8\",\"Trial-9\",\"Trial-10\"],\"range_padding\":0.1},\"id\":\"7702\",\"type\":\"FactorRange\"},{\"attributes\":{},\"id\":\"7714\",\"type\":\"BasicTicker\"},{\"attributes\":{},\"id\":\"7738\",\"type\":\"BasicTickFormatter\"},{\"attributes\":{},\"id\":\"7708\",\"type\":\"LinearScale\"},{\"attributes\":{\"fill_alpha\":{\"value\":0.1},\"fill_color\":{\"value\":\"navy\"},\"line_alpha\":{\"value\":0.1},\"line_color\":{\"value\":\"navy\"},\"top\":{\"field\":\"NEST\"},\"width\":{\"value\":0.2},\"x\":{\"field\":\"fruits\",\"transform\":{\"id\":\"7731\"}}},\"id\":\"7734\",\"type\":\"VBar\"},{\"attributes\":{},\"id\":\"7706\",\"type\":\"CategoricalScale\"},{\"attributes\":{},\"id\":\"7717\",\"type\":\"PanTool\"},{\"attributes\":{\"range\":{\"id\":\"7702\"}},\"id\":\"7747\",\"type\":\"Dodge\"},{\"attributes\":{},\"id\":\"7720\",\"type\":\"SaveTool\"},{\"attributes\":{\"data\":{\"NEST\":{\"__ndarray__\":\"AAAAAADAVEAAAAAAAABVQAAAAAAAAFVAAAAAAADAVEAAAAAAAEBVQAAAAAAAwFRAAAAAAAAAVUAAAAAAAMBUQAAAAAAAAFVAAAAAAADAVEA=\",\"dtype\":\"float64\",\"order\":\"little\",\"shape\":[10]},\"UMASS\":{\"__ndarray__\":\"AAAAAABAXEAAAAAAAIBdQAAAAAAAgF9AAAAAAAAAXEAAAAAAAMBcQAAAAAAAAFtAAAAAAAAAW0AAAAAAAABcQAAAAAAAAF1AAAAAAABAWkA=\",\"dtype\":\"float64\",\"order\":\"little\",\"shape\":[10]},\"fruits\":[\"Trial-1\",\"Trial-2\",\"Trial-3\",\"Trial-4\",\"Trial-5\",\"Trial-6\",\"Trial-7\",\"Trial-8\",\"Trial-9\",\"Trial-10\"]},\"selected\":{\"id\":\"7742\"},\"selection_policy\":{\"id\":\"7743\"}},\"id\":\"7698\",\"type\":\"ColumnDataSource\"},{\"attributes\":{\"axis_label\":\"timesteps\",\"formatter\":{\"id\":\"7738\"},\"ticker\":{\"id\":\"7714\"}},\"id\":\"7713\",\"type\":\"LinearAxis\"},{\"attributes\":{},\"id\":\"7742\",\"type\":\"Selection\"},{\"attributes\":{\"items\":[{\"id\":\"7746\"},{\"id\":\"7761\"}],\"location\":\"top_left\",\"orientation\":\"horizontal\"},\"id\":\"7745\",\"type\":\"Legend\"},{\"attributes\":{\"source\":{\"id\":\"7698\"}},\"id\":\"7752\",\"type\":\"CDSView\"},{\"attributes\":{\"label\":{\"value\":\"Spiking actors (UMASS)\"},\"renderers\":[{\"id\":\"7751\"}]},\"id\":\"7761\",\"type\":\"LegendItem\"},{\"attributes\":{\"axis\":{\"id\":\"7713\"},\"dimension\":1,\"ticker\":null},\"id\":\"7716\",\"type\":\"Grid\"},{\"attributes\":{\"fill_color\":{\"value\":\"orange\"},\"line_color\":{\"value\":\"orange\"},\"top\":{\"field\":\"UMASS\"},\"width\":{\"value\":0.2},\"x\":{\"field\":\"fruits\",\"transform\":{\"id\":\"7747\"}}},\"id\":\"7749\",\"type\":\"VBar\"},{\"attributes\":{\"fill_alpha\":{\"value\":0.1},\"fill_color\":{\"value\":\"orange\"},\"line_alpha\":{\"value\":0.1},\"line_color\":{\"value\":\"orange\"},\"top\":{\"field\":\"UMASS\"},\"width\":{\"value\":0.2},\"x\":{\"field\":\"fruits\",\"transform\":{\"id\":\"7747\"}}},\"id\":\"7750\",\"type\":\"VBar\"},{\"attributes\":{},\"id\":\"7722\",\"type\":\"HelpTool\"},{\"attributes\":{\"overlay\":{\"id\":\"7723\"}},\"id\":\"7719\",\"type\":\"BoxZoomTool\"},{\"attributes\":{\"axis_label\":\"Trials\",\"formatter\":{\"id\":\"7740\"},\"ticker\":{\"id\":\"7711\"}},\"id\":\"7710\",\"type\":\"CategoricalAxis\"},{\"attributes\":{},\"id\":\"7711\",\"type\":\"CategoricalTicker\"},{\"attributes\":{\"end\":150},\"id\":\"7704\",\"type\":\"Range1d\"},{\"attributes\":{\"axis\":{\"id\":\"7710\"},\"grid_line_color\":null,\"ticker\":null},\"id\":\"7712\",\"type\":\"Grid\"},{\"attributes\":{\"fill_color\":{\"value\":\"navy\"},\"line_color\":{\"value\":\"navy\"},\"top\":{\"field\":\"NEST\"},\"width\":{\"value\":0.2},\"x\":{\"field\":\"fruits\",\"transform\":{\"id\":\"7731\"}}},\"id\":\"7733\",\"type\":\"VBar\"},{\"attributes\":{\"active_drag\":\"auto\",\"active_inspect\":\"auto\",\"active_multi\":null,\"active_scroll\":\"auto\",\"active_tap\":\"auto\",\"tools\":[{\"id\":\"7717\"},{\"id\":\"7718\"},{\"id\":\"7719\"},{\"id\":\"7720\"},{\"id\":\"7721\"},{\"id\":\"7722\"}]},\"id\":\"7724\",\"type\":\"Toolbar\"}],\"root_ids\":[\"7699\"]},\"title\":\"Bokeh Application\",\"version\":\"2.2.3\"}};\n  var render_items = [{\"docid\":\"2aed93eb-a246-4261-9170-c2745ffbaa9c\",\"root_ids\":[\"7699\"],\"roots\":{\"7699\":\"039ef3c5-aea0-4cea-b3a7-ee949e800301\"}}];\n  root.Bokeh.embed.embed_items_notebook(docs_json, render_items);\n\n  }\n  if (root.Bokeh !== undefined) {\n    embed_document(root);\n  } else {\n    var attempts = 0;\n    var timer = setInterval(function(root) {\n      if (root.Bokeh !== undefined) {\n        clearInterval(timer);\n        embed_document(root);\n      } else {\n        attempts++;\n        if (attempts > 100) {\n          clearInterval(timer);\n          console.log(\"Bokeh: ERROR: Unable to run BokehJS code because BokehJS library is missing\");\n        }\n      }\n    }, 10, root)\n  }\n})(window);",
      "application/vnd.bokehjs_exec.v0+json": ""
     },
     "metadata": {
      "application/vnd.bokehjs_exec.v0+json": {
       "id": "7699"
      }
     }
    }
   ],
   "source": [
    "from bokeh.io import output_file, show\n",
    "from bokeh.models import ColumnDataSource\n",
    "from bokeh.plotting import figure\n",
    "from bokeh.transform import dodge\n",
    "\n",
    "output_file(\"dodged_bars.html\")\n",
    "\n",
    "fruits = [\"Trial-1\", \"Trial-2\",\"Trial-3\",\"Trial-4\",\"Trial-5\",\"Trial-6\",\"Trial-7\",\"Trial-8\",\"Trial-9\",\"Trial-10\"]\n",
    "years = [\"NEST\", \"UMASS\"]\n",
    "\n",
    "data = {'fruits' : fruits,\n",
    "        'NEST'   : min_timesteps_1,\n",
    "        'UMASS'   : min_timesteps_2}\n",
    "\n",
    "source = ColumnDataSource(data=data)\n",
    "\n",
    "p = figure(x_axis_label=\"Trials\", y_axis_label=\"timesteps\", x_range=fruits, y_range=(0,150), plot_height=400,title=\"TD learning in SNN: Mountaincar (Least timesteps per trial)\")\n",
    "\n",
    "p.vbar(x=dodge('fruits', -0.25, range=p.x_range), top='NEST', width=0.2, source=source,\n",
    "       color=\"navy\", legend_label=\"Rate neurons (NEST)\")\n",
    "\n",
    "p.vbar(x=dodge('fruits',  0.0,  range=p.x_range), top='UMASS', width=0.2, source=source,\n",
    "       color=\"orange\", legend_label=\"Spiking actors (UMASS)\")\n",
    "\n",
    "p.x_range.range_padding = 0.1\n",
    "p.xgrid.grid_line_color = None\n",
    "p.legend.location = \"top_left\"\n",
    "p.legend.orientation = \"horizontal\"\n",
    "\n",
    "show(p)"
   ]
  },
  {
   "cell_type": "code",
   "execution_count": null,
   "metadata": {},
   "outputs": [],
   "source": []
  }
 ]
}