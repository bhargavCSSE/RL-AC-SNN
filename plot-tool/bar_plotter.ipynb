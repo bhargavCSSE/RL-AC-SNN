{
 "metadata": {
  "language_info": {
   "codemirror_mode": {
    "name": "ipython",
    "version": 3
   },
   "file_extension": ".py",
   "mimetype": "text/x-python",
   "name": "python",
   "nbconvert_exporter": "python",
   "pygments_lexer": "ipython3",
   "version": "3.6.9-final"
  },
  "orig_nbformat": 2,
  "kernelspec": {
   "name": "python36964bitdb09bfd17c504f20a7502d28f80ceca1",
   "display_name": "Python 3.6.9 64-bit"
  }
 },
 "nbformat": 4,
 "nbformat_minor": 2,
 "cells": [
  {
   "cell_type": "code",
   "execution_count": 13,
   "metadata": {},
   "outputs": [
    {
     "output_type": "display_data",
     "data": {
      "text/html": "\n    <div class=\"bk-root\">\n        <a href=\"https://bokeh.org\" target=\"_blank\" class=\"bk-logo bk-logo-small bk-logo-notebook\"></a>\n        <span id=\"1110\">Loading BokehJS ...</span>\n    </div>"
     },
     "metadata": {}
    },
    {
     "output_type": "display_data",
     "data": {
      "application/javascript": "\n(function(root) {\n  function now() {\n    return new Date();\n  }\n\n  var force = true;\n\n  if (typeof root._bokeh_onload_callbacks === \"undefined\" || force === true) {\n    root._bokeh_onload_callbacks = [];\n    root._bokeh_is_loading = undefined;\n  }\n\n  var JS_MIME_TYPE = 'application/javascript';\n  var HTML_MIME_TYPE = 'text/html';\n  var EXEC_MIME_TYPE = 'application/vnd.bokehjs_exec.v0+json';\n  var CLASS_NAME = 'output_bokeh rendered_html';\n\n  /**\n   * Render data to the DOM node\n   */\n  function render(props, node) {\n    var script = document.createElement(\"script\");\n    node.appendChild(script);\n  }\n\n  /**\n   * Handle when an output is cleared or removed\n   */\n  function handleClearOutput(event, handle) {\n    var cell = handle.cell;\n\n    var id = cell.output_area._bokeh_element_id;\n    var server_id = cell.output_area._bokeh_server_id;\n    // Clean up Bokeh references\n    if (id != null && id in Bokeh.index) {\n      Bokeh.index[id].model.document.clear();\n      delete Bokeh.index[id];\n    }\n\n    if (server_id !== undefined) {\n      // Clean up Bokeh references\n      var cmd = \"from bokeh.io.state import curstate; print(curstate().uuid_to_server['\" + server_id + \"'].get_sessions()[0].document.roots[0]._id)\";\n      cell.notebook.kernel.execute(cmd, {\n        iopub: {\n          output: function(msg) {\n            var id = msg.content.text.trim();\n            if (id in Bokeh.index) {\n              Bokeh.index[id].model.document.clear();\n              delete Bokeh.index[id];\n            }\n          }\n        }\n      });\n      // Destroy server and session\n      var cmd = \"import bokeh.io.notebook as ion; ion.destroy_server('\" + server_id + \"')\";\n      cell.notebook.kernel.execute(cmd);\n    }\n  }\n\n  /**\n   * Handle when a new output is added\n   */\n  function handleAddOutput(event, handle) {\n    var output_area = handle.output_area;\n    var output = handle.output;\n\n    // limit handleAddOutput to display_data with EXEC_MIME_TYPE content only\n    if ((output.output_type != \"display_data\") || (!output.data.hasOwnProperty(EXEC_MIME_TYPE))) {\n      return\n    }\n\n    var toinsert = output_area.element.find(\".\" + CLASS_NAME.split(' ')[0]);\n\n    if (output.metadata[EXEC_MIME_TYPE][\"id\"] !== undefined) {\n      toinsert[toinsert.length - 1].firstChild.textContent = output.data[JS_MIME_TYPE];\n      // store reference to embed id on output_area\n      output_area._bokeh_element_id = output.metadata[EXEC_MIME_TYPE][\"id\"];\n    }\n    if (output.metadata[EXEC_MIME_TYPE][\"server_id\"] !== undefined) {\n      var bk_div = document.createElement(\"div\");\n      bk_div.innerHTML = output.data[HTML_MIME_TYPE];\n      var script_attrs = bk_div.children[0].attributes;\n      for (var i = 0; i < script_attrs.length; i++) {\n        toinsert[toinsert.length - 1].firstChild.setAttribute(script_attrs[i].name, script_attrs[i].value);\n        toinsert[toinsert.length - 1].firstChild.textContent = bk_div.children[0].textContent\n      }\n      // store reference to server id on output_area\n      output_area._bokeh_server_id = output.metadata[EXEC_MIME_TYPE][\"server_id\"];\n    }\n  }\n\n  function register_renderer(events, OutputArea) {\n\n    function append_mime(data, metadata, element) {\n      // create a DOM node to render to\n      var toinsert = this.create_output_subarea(\n        metadata,\n        CLASS_NAME,\n        EXEC_MIME_TYPE\n      );\n      this.keyboard_manager.register_events(toinsert);\n      // Render to node\n      var props = {data: data, metadata: metadata[EXEC_MIME_TYPE]};\n      render(props, toinsert[toinsert.length - 1]);\n      element.append(toinsert);\n      return toinsert\n    }\n\n    /* Handle when an output is cleared or removed */\n    events.on('clear_output.CodeCell', handleClearOutput);\n    events.on('delete.Cell', handleClearOutput);\n\n    /* Handle when a new output is added */\n    events.on('output_added.OutputArea', handleAddOutput);\n\n    /**\n     * Register the mime type and append_mime function with output_area\n     */\n    OutputArea.prototype.register_mime_type(EXEC_MIME_TYPE, append_mime, {\n      /* Is output safe? */\n      safe: true,\n      /* Index of renderer in `output_area.display_order` */\n      index: 0\n    });\n  }\n\n  // register the mime type if in Jupyter Notebook environment and previously unregistered\n  if (root.Jupyter !== undefined) {\n    var events = require('base/js/events');\n    var OutputArea = require('notebook/js/outputarea').OutputArea;\n\n    if (OutputArea.prototype.mime_types().indexOf(EXEC_MIME_TYPE) == -1) {\n      register_renderer(events, OutputArea);\n    }\n  }\n\n  \n  if (typeof (root._bokeh_timeout) === \"undefined\" || force === true) {\n    root._bokeh_timeout = Date.now() + 5000;\n    root._bokeh_failed_load = false;\n  }\n\n  var NB_LOAD_WARNING = {'data': {'text/html':\n     \"<div style='background-color: #fdd'>\\n\"+\n     \"<p>\\n\"+\n     \"BokehJS does not appear to have successfully loaded. If loading BokehJS from CDN, this \\n\"+\n     \"may be due to a slow or bad network connection. Possible fixes:\\n\"+\n     \"</p>\\n\"+\n     \"<ul>\\n\"+\n     \"<li>re-rerun `output_notebook()` to attempt to load from CDN again, or</li>\\n\"+\n     \"<li>use INLINE resources instead, as so:</li>\\n\"+\n     \"</ul>\\n\"+\n     \"<code>\\n\"+\n     \"from bokeh.resources import INLINE\\n\"+\n     \"output_notebook(resources=INLINE)\\n\"+\n     \"</code>\\n\"+\n     \"</div>\"}};\n\n  function display_loaded() {\n    var el = document.getElementById(\"1110\");\n    if (el != null) {\n      el.textContent = \"BokehJS is loading...\";\n    }\n    if (root.Bokeh !== undefined) {\n      if (el != null) {\n        el.textContent = \"BokehJS \" + root.Bokeh.version + \" successfully loaded.\";\n      }\n    } else if (Date.now() < root._bokeh_timeout) {\n      setTimeout(display_loaded, 100)\n    }\n  }\n\n\n  function run_callbacks() {\n    try {\n      root._bokeh_onload_callbacks.forEach(function(callback) {\n        if (callback != null)\n          callback();\n      });\n    } finally {\n      delete root._bokeh_onload_callbacks\n    }\n    console.debug(\"Bokeh: all callbacks have finished\");\n  }\n\n  function load_libs(css_urls, js_urls, callback) {\n    if (css_urls == null) css_urls = [];\n    if (js_urls == null) js_urls = [];\n\n    root._bokeh_onload_callbacks.push(callback);\n    if (root._bokeh_is_loading > 0) {\n      console.debug(\"Bokeh: BokehJS is being loaded, scheduling callback at\", now());\n      return null;\n    }\n    if (js_urls == null || js_urls.length === 0) {\n      run_callbacks();\n      return null;\n    }\n    console.debug(\"Bokeh: BokehJS not loaded, scheduling load and callback at\", now());\n    root._bokeh_is_loading = css_urls.length + js_urls.length;\n\n    function on_load() {\n      root._bokeh_is_loading--;\n      if (root._bokeh_is_loading === 0) {\n        console.debug(\"Bokeh: all BokehJS libraries/stylesheets loaded\");\n        run_callbacks()\n      }\n    }\n\n    function on_error() {\n      console.error(\"failed to load \" + url);\n    }\n\n    for (var i = 0; i < css_urls.length; i++) {\n      var url = css_urls[i];\n      const element = document.createElement(\"link\");\n      element.onload = on_load;\n      element.onerror = on_error;\n      element.rel = \"stylesheet\";\n      element.type = \"text/css\";\n      element.href = url;\n      console.debug(\"Bokeh: injecting link tag for BokehJS stylesheet: \", url);\n      document.body.appendChild(element);\n    }\n\n    const hashes = {\"https://cdn.bokeh.org/bokeh/release/bokeh-2.2.3.min.js\": \"T2yuo9Oe71Cz/I4X9Ac5+gpEa5a8PpJCDlqKYO0CfAuEszu1JrXLl8YugMqYe3sM\", \"https://cdn.bokeh.org/bokeh/release/bokeh-widgets-2.2.3.min.js\": \"98GDGJ0kOMCUMUePhksaQ/GYgB3+NH9h996V88sh3aOiUNX3N+fLXAtry6xctSZ6\", \"https://cdn.bokeh.org/bokeh/release/bokeh-tables-2.2.3.min.js\": \"89bArO+nlbP3sgakeHjCo1JYxYR5wufVgA3IbUvDY+K7w4zyxJqssu7wVnfeKCq8\"};\n\n    for (var i = 0; i < js_urls.length; i++) {\n      var url = js_urls[i];\n      var element = document.createElement('script');\n      element.onload = on_load;\n      element.onerror = on_error;\n      element.async = false;\n      element.src = url;\n      if (url in hashes) {\n        element.crossOrigin = \"anonymous\";\n        element.integrity = \"sha384-\" + hashes[url];\n      }\n      console.debug(\"Bokeh: injecting script tag for BokehJS library: \", url);\n      document.head.appendChild(element);\n    }\n  };\n\n  function inject_raw_css(css) {\n    const element = document.createElement(\"style\");\n    element.appendChild(document.createTextNode(css));\n    document.body.appendChild(element);\n  }\n\n  \n  var js_urls = [\"https://cdn.bokeh.org/bokeh/release/bokeh-2.2.3.min.js\", \"https://cdn.bokeh.org/bokeh/release/bokeh-widgets-2.2.3.min.js\", \"https://cdn.bokeh.org/bokeh/release/bokeh-tables-2.2.3.min.js\"];\n  var css_urls = [];\n  \n\n  var inline_js = [\n    function(Bokeh) {\n      Bokeh.set_log_level(\"info\");\n    },\n    function(Bokeh) {\n    \n    \n    }\n  ];\n\n  function run_inline_js() {\n    \n    if (root.Bokeh !== undefined || force === true) {\n      \n    for (var i = 0; i < inline_js.length; i++) {\n      inline_js[i].call(root, root.Bokeh);\n    }\n    if (force === true) {\n        display_loaded();\n      }} else if (Date.now() < root._bokeh_timeout) {\n      setTimeout(run_inline_js, 100);\n    } else if (!root._bokeh_failed_load) {\n      console.log(\"Bokeh: BokehJS failed to load within specified timeout.\");\n      root._bokeh_failed_load = true;\n    } else if (force !== true) {\n      var cell = $(document.getElementById(\"1110\")).parents('.cell').data().cell;\n      cell.output_area.append_execute_result(NB_LOAD_WARNING)\n    }\n\n  }\n\n  if (root._bokeh_is_loading === 0) {\n    console.debug(\"Bokeh: BokehJS loaded, going straight to plotting\");\n    run_inline_js();\n  } else {\n    load_libs(css_urls, js_urls, function() {\n      console.debug(\"Bokeh: BokehJS plotting callback run at\", now());\n      run_inline_js();\n    });\n  }\n}(window));",
      "application/vnd.bokehjs_load.v0+json": "\n(function(root) {\n  function now() {\n    return new Date();\n  }\n\n  var force = true;\n\n  if (typeof root._bokeh_onload_callbacks === \"undefined\" || force === true) {\n    root._bokeh_onload_callbacks = [];\n    root._bokeh_is_loading = undefined;\n  }\n\n  \n\n  \n  if (typeof (root._bokeh_timeout) === \"undefined\" || force === true) {\n    root._bokeh_timeout = Date.now() + 5000;\n    root._bokeh_failed_load = false;\n  }\n\n  var NB_LOAD_WARNING = {'data': {'text/html':\n     \"<div style='background-color: #fdd'>\\n\"+\n     \"<p>\\n\"+\n     \"BokehJS does not appear to have successfully loaded. If loading BokehJS from CDN, this \\n\"+\n     \"may be due to a slow or bad network connection. Possible fixes:\\n\"+\n     \"</p>\\n\"+\n     \"<ul>\\n\"+\n     \"<li>re-rerun `output_notebook()` to attempt to load from CDN again, or</li>\\n\"+\n     \"<li>use INLINE resources instead, as so:</li>\\n\"+\n     \"</ul>\\n\"+\n     \"<code>\\n\"+\n     \"from bokeh.resources import INLINE\\n\"+\n     \"output_notebook(resources=INLINE)\\n\"+\n     \"</code>\\n\"+\n     \"</div>\"}};\n\n  function display_loaded() {\n    var el = document.getElementById(\"1110\");\n    if (el != null) {\n      el.textContent = \"BokehJS is loading...\";\n    }\n    if (root.Bokeh !== undefined) {\n      if (el != null) {\n        el.textContent = \"BokehJS \" + root.Bokeh.version + \" successfully loaded.\";\n      }\n    } else if (Date.now() < root._bokeh_timeout) {\n      setTimeout(display_loaded, 100)\n    }\n  }\n\n\n  function run_callbacks() {\n    try {\n      root._bokeh_onload_callbacks.forEach(function(callback) {\n        if (callback != null)\n          callback();\n      });\n    } finally {\n      delete root._bokeh_onload_callbacks\n    }\n    console.debug(\"Bokeh: all callbacks have finished\");\n  }\n\n  function load_libs(css_urls, js_urls, callback) {\n    if (css_urls == null) css_urls = [];\n    if (js_urls == null) js_urls = [];\n\n    root._bokeh_onload_callbacks.push(callback);\n    if (root._bokeh_is_loading > 0) {\n      console.debug(\"Bokeh: BokehJS is being loaded, scheduling callback at\", now());\n      return null;\n    }\n    if (js_urls == null || js_urls.length === 0) {\n      run_callbacks();\n      return null;\n    }\n    console.debug(\"Bokeh: BokehJS not loaded, scheduling load and callback at\", now());\n    root._bokeh_is_loading = css_urls.length + js_urls.length;\n\n    function on_load() {\n      root._bokeh_is_loading--;\n      if (root._bokeh_is_loading === 0) {\n        console.debug(\"Bokeh: all BokehJS libraries/stylesheets loaded\");\n        run_callbacks()\n      }\n    }\n\n    function on_error() {\n      console.error(\"failed to load \" + url);\n    }\n\n    for (var i = 0; i < css_urls.length; i++) {\n      var url = css_urls[i];\n      const element = document.createElement(\"link\");\n      element.onload = on_load;\n      element.onerror = on_error;\n      element.rel = \"stylesheet\";\n      element.type = \"text/css\";\n      element.href = url;\n      console.debug(\"Bokeh: injecting link tag for BokehJS stylesheet: \", url);\n      document.body.appendChild(element);\n    }\n\n    const hashes = {\"https://cdn.bokeh.org/bokeh/release/bokeh-2.2.3.min.js\": \"T2yuo9Oe71Cz/I4X9Ac5+gpEa5a8PpJCDlqKYO0CfAuEszu1JrXLl8YugMqYe3sM\", \"https://cdn.bokeh.org/bokeh/release/bokeh-widgets-2.2.3.min.js\": \"98GDGJ0kOMCUMUePhksaQ/GYgB3+NH9h996V88sh3aOiUNX3N+fLXAtry6xctSZ6\", \"https://cdn.bokeh.org/bokeh/release/bokeh-tables-2.2.3.min.js\": \"89bArO+nlbP3sgakeHjCo1JYxYR5wufVgA3IbUvDY+K7w4zyxJqssu7wVnfeKCq8\"};\n\n    for (var i = 0; i < js_urls.length; i++) {\n      var url = js_urls[i];\n      var element = document.createElement('script');\n      element.onload = on_load;\n      element.onerror = on_error;\n      element.async = false;\n      element.src = url;\n      if (url in hashes) {\n        element.crossOrigin = \"anonymous\";\n        element.integrity = \"sha384-\" + hashes[url];\n      }\n      console.debug(\"Bokeh: injecting script tag for BokehJS library: \", url);\n      document.head.appendChild(element);\n    }\n  };\n\n  function inject_raw_css(css) {\n    const element = document.createElement(\"style\");\n    element.appendChild(document.createTextNode(css));\n    document.body.appendChild(element);\n  }\n\n  \n  var js_urls = [\"https://cdn.bokeh.org/bokeh/release/bokeh-2.2.3.min.js\", \"https://cdn.bokeh.org/bokeh/release/bokeh-widgets-2.2.3.min.js\", \"https://cdn.bokeh.org/bokeh/release/bokeh-tables-2.2.3.min.js\"];\n  var css_urls = [];\n  \n\n  var inline_js = [\n    function(Bokeh) {\n      Bokeh.set_log_level(\"info\");\n    },\n    function(Bokeh) {\n    \n    \n    }\n  ];\n\n  function run_inline_js() {\n    \n    if (root.Bokeh !== undefined || force === true) {\n      \n    for (var i = 0; i < inline_js.length; i++) {\n      inline_js[i].call(root, root.Bokeh);\n    }\n    if (force === true) {\n        display_loaded();\n      }} else if (Date.now() < root._bokeh_timeout) {\n      setTimeout(run_inline_js, 100);\n    } else if (!root._bokeh_failed_load) {\n      console.log(\"Bokeh: BokehJS failed to load within specified timeout.\");\n      root._bokeh_failed_load = true;\n    } else if (force !== true) {\n      var cell = $(document.getElementById(\"1110\")).parents('.cell').data().cell;\n      cell.output_area.append_execute_result(NB_LOAD_WARNING)\n    }\n\n  }\n\n  if (root._bokeh_is_loading === 0) {\n    console.debug(\"Bokeh: BokehJS loaded, going straight to plotting\");\n    run_inline_js();\n  } else {\n    load_libs(css_urls, js_urls, function() {\n      console.debug(\"Bokeh: BokehJS plotting callback run at\", now());\n      run_inline_js();\n    });\n  }\n}(window));"
     },
     "metadata": {}
    }
   ],
   "source": [
    "import json\n",
    "import pandas as pd\n",
    "import numpy as np\n",
    "import sys\n",
    "import glob\n",
    "\n",
    "sys.path.insert(0, '../includes/')\n",
    "import helper\n",
    "import plot_config"
   ]
  },
  {
   "cell_type": "code",
   "execution_count": 14,
   "metadata": {},
   "outputs": [],
   "source": [
    "d1 = pd.read_csv(\"test-toolchain-mc.csv\", index_col=0)\n",
    "d2 = pd.read_csv(\"test-umass-mc.csv\", index_col=0)\n",
    "maxValObj_1 = d1.max()\n",
    "maxValObj_2 = d2.max()"
   ]
  },
  {
   "cell_type": "code",
   "execution_count": 34,
   "metadata": {},
   "outputs": [],
   "source": [
    "min_timesteps_1 = np.array([\n",
    "    maxValObj_1[\"Trial-1\"],\n",
    "    maxValObj_1[\"Trial-2\"],\n",
    "    maxValObj_1[\"Trial-3\"],\n",
    "    maxValObj_1[\"Trial-4\"],\n",
    "    maxValObj_1[\"Trial-5\"],\n",
    "    maxValObj_1[\"Trial-6\"],\n",
    "    maxValObj_1[\"Trial-7\"],\n",
    "    maxValObj_1[\"Trial-8\"],\n",
    "    maxValObj_1[\"Trial-9\"],\n",
    "    maxValObj_1[\"Trial-10\"]\n",
    "])\n",
    "\n",
    "min_timesteps_2 = np.array([\n",
    "    maxValObj_2[\"0\"],\n",
    "    maxValObj_2[\"1\"],\n",
    "    maxValObj_2[\"2\"],\n",
    "    maxValObj_2[\"3\"],\n",
    "    maxValObj_2[\"4\"],\n",
    "    maxValObj_2[\"5\"],\n",
    "    maxValObj_2[\"6\"],\n",
    "    maxValObj_2[\"7\"],\n",
    "    maxValObj_2[\"8\"],\n",
    "    maxValObj_2[\"9\"]\n",
    "])\n",
    "min_timesteps_1 = (-1)*min_timesteps_1\n",
    "min_timesteps_2 = (-1)*min_timesteps_2"
   ]
  },
  {
   "cell_type": "code",
   "execution_count": 36,
   "metadata": {},
   "outputs": [],
   "source": [
    "source = ColumnDataSource(dict(\n",
    "    x = np.array(range(10)),\n",
    "    y1 = min_timesteps_1,\n",
    "    y2 = min_timesteps_2\n",
    "))\n",
    "\n",
    "trials = [\"Trial-1\", \"Trial-2\",\"Trial-3\",\"Trial-4\",\"Trial-5\",\"Trial-6\",\"Trial-7\",\"Trial-8\",\"Trial-9\",\"Trial-10\"]\n",
    "frameworks = [\"NEST\", \"UMASS\"]\n",
    "\n",
    "data = {\n",
    "    \"Trials\": trials,\n",
    "    \"Rate neurons (NEST)\": min_timesteps_1,\n",
    "    \"Spiking actors (UMASS)\": min_timesteps_2\n",
    "}\n"
   ]
  },
  {
   "cell_type": "code",
   "execution_count": 59,
   "metadata": {},
   "outputs": [
    {
     "output_type": "display_data",
     "data": {
      "text/html": "\n\n\n\n\n\n  <div class=\"bk-root\" id=\"039ef3c5-aea0-4cea-b3a7-ee949e800301\" data-root-id=\"7699\"></div>\n"
     },
     "metadata": {}
    },
    {
     "output_type": "display_data",
     "data": {
      "application/javascript": "(function(root) {\n  function embed_document(root) {\n    \n  var docs_json = {\"2aed93eb-a246-4261-9170-c2745ffbaa9c\":{\"roots\":{\"references\":[{\"attributes\":{\"below\":[{\"id\":\"7710\"}],\"center\":[{\"id\":\"7712\"},{\"id\":\"7716\"},{\"id\":\"7745\"}],\"left\":[{\"id\":\"7713\"}],\"plot_height\":400,\"renderers\":[{\"id\":\"7735\"},{\"id\":\"7751\"}],\"title\":{\"id\":\"7700\"},\"toolbar\":{\"id\":\"7724\"},\"x_range\":{\"id\":\"7702\"},\"x_scale\":{\"id\":\"7706\"},\"y_range\":{\"id\":\"7704\"},\"y_scale\":{\"id\":\"7708\"}},\"id\":\"7699\",\"subtype\":\"Figure\",\"type\":\"Plot\"},{\"attributes\":{\"text\":\"TD learning in SNN: Mountaincar (Least timesteps per trial)\"},\"id\":\"7700\",\"type\":\"Title\"},{\"attributes\":{},\"id\":\"7721\",\"type\":\"ResetTool\"},{\"attributes\":{\"source\":{\"id\":\"7698\"}},\"id\":\"7736\",\"type\":\"CDSView\"},{\"attributes\":{\"bottom_units\":\"screen\",\"fill_alpha\":0.5,\"fill_color\":\"lightgrey\",\"left_units\":\"screen\",\"level\":\"overlay\",\"line_alpha\":1.0,\"line_color\":\"black\",\"line_dash\":[4,4],\"line_width\":2,\"right_units\":\"screen\",\"top_units\":\"screen\"},\"id\":\"7723\",\"type\":\"BoxAnnotation\"},{\"attributes\":{\"data_source\":{\"id\":\"7698\"},\"glyph\":{\"id\":\"7749\"},\"hover_glyph\":null,\"muted_glyph\":null,\"nonselection_glyph\":{\"id\":\"7750\"},\"selection_glyph\":null,\"view\":{\"id\":\"7752\"}},\"id\":\"7751\",\"type\":\"GlyphRenderer\"},{\"attributes\":{\"data_source\":{\"id\":\"7698\"},\"glyph\":{\"id\":\"7733\"},\"hover_glyph\":null,\"muted_glyph\":null,\"nonselection_glyph\":{\"id\":\"7734\"},\"selection_glyph\":null,\"view\":{\"id\":\"7736\"}},\"id\":\"7735\",\"type\":\"GlyphRenderer\"},{\"attributes\":{\"range\":{\"id\":\"7702\"},\"value\":-0.25},\"id\":\"7731\",\"type\":\"Dodge\"},{\"attributes\":{},\"id\":\"7740\",\"type\":\"CategoricalTickFormatter\"},{\"attributes\":{},\"id\":\"7718\",\"type\":\"WheelZoomTool\"},{\"attributes\":{\"label\":{\"value\":\"Rate neurons (NEST)\"},\"renderers\":[{\"id\":\"7735\"}]},\"id\":\"7746\",\"type\":\"LegendItem\"},{\"attributes\":{},\"id\":\"7743\",\"type\":\"UnionRenderers\"},{\"attributes\":{\"factors\":[\"Trial-1\",\"Trial-2\",\"Trial-3\",\"Trial-4\",\"Trial-5\",\"Trial-6\",\"Trial-7\",\"Trial-8\",\"Trial-9\",\"Trial-10\"],\"range_padding\":0.1},\"id\":\"7702\",\"type\":\"FactorRange\"},{\"attributes\":{},\"id\":\"7714\",\"type\":\"BasicTicker\"},{\"attributes\":{},\"id\":\"7738\",\"type\":\"BasicTickFormatter\"},{\"attributes\":{},\"id\":\"7708\",\"type\":\"LinearScale\"},{\"attributes\":{\"fill_alpha\":{\"value\":0.1},\"fill_color\":{\"value\":\"navy\"},\"line_alpha\":{\"value\":0.1},\"line_color\":{\"value\":\"navy\"},\"top\":{\"field\":\"NEST\"},\"width\":{\"value\":0.2},\"x\":{\"field\":\"fruits\",\"transform\":{\"id\":\"7731\"}}},\"id\":\"7734\",\"type\":\"VBar\"},{\"attributes\":{},\"id\":\"7706\",\"type\":\"CategoricalScale\"},{\"attributes\":{},\"id\":\"7717\",\"type\":\"PanTool\"},{\"attributes\":{\"range\":{\"id\":\"7702\"}},\"id\":\"7747\",\"type\":\"Dodge\"},{\"attributes\":{},\"id\":\"7720\",\"type\":\"SaveTool\"},{\"attributes\":{\"data\":{\"NEST\":{\"__ndarray__\":\"AAAAAADAVEAAAAAAAABVQAAAAAAAAFVAAAAAAADAVEAAAAAAAEBVQAAAAAAAwFRAAAAAAAAAVUAAAAAAAMBUQAAAAAAAAFVAAAAAAADAVEA=\",\"dtype\":\"float64\",\"order\":\"little\",\"shape\":[10]},\"UMASS\":{\"__ndarray__\":\"AAAAAABAXEAAAAAAAIBdQAAAAAAAgF9AAAAAAAAAXEAAAAAAAMBcQAAAAAAAAFtAAAAAAAAAW0AAAAAAAABcQAAAAAAAAF1AAAAAAABAWkA=\",\"dtype\":\"float64\",\"order\":\"little\",\"shape\":[10]},\"fruits\":[\"Trial-1\",\"Trial-2\",\"Trial-3\",\"Trial-4\",\"Trial-5\",\"Trial-6\",\"Trial-7\",\"Trial-8\",\"Trial-9\",\"Trial-10\"]},\"selected\":{\"id\":\"7742\"},\"selection_policy\":{\"id\":\"7743\"}},\"id\":\"7698\",\"type\":\"ColumnDataSource\"},{\"attributes\":{\"axis_label\":\"timesteps\",\"formatter\":{\"id\":\"7738\"},\"ticker\":{\"id\":\"7714\"}},\"id\":\"7713\",\"type\":\"LinearAxis\"},{\"attributes\":{},\"id\":\"7742\",\"type\":\"Selection\"},{\"attributes\":{\"items\":[{\"id\":\"7746\"},{\"id\":\"7761\"}],\"location\":\"top_left\",\"orientation\":\"horizontal\"},\"id\":\"7745\",\"type\":\"Legend\"},{\"attributes\":{\"source\":{\"id\":\"7698\"}},\"id\":\"7752\",\"type\":\"CDSView\"},{\"attributes\":{\"label\":{\"value\":\"Spiking actors (UMASS)\"},\"renderers\":[{\"id\":\"7751\"}]},\"id\":\"7761\",\"type\":\"LegendItem\"},{\"attributes\":{\"axis\":{\"id\":\"7713\"},\"dimension\":1,\"ticker\":null},\"id\":\"7716\",\"type\":\"Grid\"},{\"attributes\":{\"fill_color\":{\"value\":\"orange\"},\"line_color\":{\"value\":\"orange\"},\"top\":{\"field\":\"UMASS\"},\"width\":{\"value\":0.2},\"x\":{\"field\":\"fruits\",\"transform\":{\"id\":\"7747\"}}},\"id\":\"7749\",\"type\":\"VBar\"},{\"attributes\":{\"fill_alpha\":{\"value\":0.1},\"fill_color\":{\"value\":\"orange\"},\"line_alpha\":{\"value\":0.1},\"line_color\":{\"value\":\"orange\"},\"top\":{\"field\":\"UMASS\"},\"width\":{\"value\":0.2},\"x\":{\"field\":\"fruits\",\"transform\":{\"id\":\"7747\"}}},\"id\":\"7750\",\"type\":\"VBar\"},{\"attributes\":{},\"id\":\"7722\",\"type\":\"HelpTool\"},{\"attributes\":{\"overlay\":{\"id\":\"7723\"}},\"id\":\"7719\",\"type\":\"BoxZoomTool\"},{\"attributes\":{\"axis_label\":\"Trials\",\"formatter\":{\"id\":\"7740\"},\"ticker\":{\"id\":\"7711\"}},\"id\":\"7710\",\"type\":\"CategoricalAxis\"},{\"attributes\":{},\"id\":\"7711\",\"type\":\"CategoricalTicker\"},{\"attributes\":{\"end\":150},\"id\":\"7704\",\"type\":\"Range1d\"},{\"attributes\":{\"axis\":{\"id\":\"7710\"},\"grid_line_color\":null,\"ticker\":null},\"id\":\"7712\",\"type\":\"Grid\"},{\"attributes\":{\"fill_color\":{\"value\":\"navy\"},\"line_color\":{\"value\":\"navy\"},\"top\":{\"field\":\"NEST\"},\"width\":{\"value\":0.2},\"x\":{\"field\":\"fruits\",\"transform\":{\"id\":\"7731\"}}},\"id\":\"7733\",\"type\":\"VBar\"},{\"attributes\":{\"active_drag\":\"auto\",\"active_inspect\":\"auto\",\"active_multi\":null,\"active_scroll\":\"auto\",\"active_tap\":\"auto\",\"tools\":[{\"id\":\"7717\"},{\"id\":\"7718\"},{\"id\":\"7719\"},{\"id\":\"7720\"},{\"id\":\"7721\"},{\"id\":\"7722\"}]},\"id\":\"7724\",\"type\":\"Toolbar\"}],\"root_ids\":[\"7699\"]},\"title\":\"Bokeh Application\",\"version\":\"2.2.3\"}};\n  var render_items = [{\"docid\":\"2aed93eb-a246-4261-9170-c2745ffbaa9c\",\"root_ids\":[\"7699\"],\"roots\":{\"7699\":\"039ef3c5-aea0-4cea-b3a7-ee949e800301\"}}];\n  root.Bokeh.embed.embed_items_notebook(docs_json, render_items);\n\n  }\n  if (root.Bokeh !== undefined) {\n    embed_document(root);\n  } else {\n    var attempts = 0;\n    var timer = setInterval(function(root) {\n      if (root.Bokeh !== undefined) {\n        clearInterval(timer);\n        embed_document(root);\n      } else {\n        attempts++;\n        if (attempts > 100) {\n          clearInterval(timer);\n          console.log(\"Bokeh: ERROR: Unable to run BokehJS code because BokehJS library is missing\");\n        }\n      }\n    }, 10, root)\n  }\n})(window);",
      "application/vnd.bokehjs_exec.v0+json": ""
     },
     "metadata": {
      "application/vnd.bokehjs_exec.v0+json": {
       "id": "7699"
      }
     }
    }
   ],
   "source": [
    "from bokeh.io import output_file, show\n",
    "from bokeh.models import ColumnDataSource\n",
    "from bokeh.plotting import figure\n",
    "from bokeh.transform import dodge\n",
    "\n",
    "output_file(\"dodged_bars.html\")\n",
    "\n",
    "fruits = [\"Trial-1\", \"Trial-2\",\"Trial-3\",\"Trial-4\",\"Trial-5\",\"Trial-6\",\"Trial-7\",\"Trial-8\",\"Trial-9\",\"Trial-10\"]\n",
    "years = [\"NEST\", \"UMASS\"]\n",
    "\n",
    "data = {'fruits' : fruits,\n",
    "        'NEST'   : min_timesteps_1,\n",
    "        'UMASS'   : min_timesteps_2}\n",
    "\n",
    "source = ColumnDataSource(data=data)\n",
    "\n",
    "p = figure(x_axis_label=\"Trials\", y_axis_label=\"timesteps\", x_range=fruits, y_range=(0,150), plot_height=400,title=\"TD learning in SNN: Mountaincar (Least timesteps per trial)\")\n",
    "\n",
    "p.vbar(x=dodge('fruits', -0.25, range=p.x_range), top='NEST', width=0.2, source=source,\n",
    "       color=\"navy\", legend_label=\"Rate neurons (NEST)\")\n",
    "\n",
    "p.vbar(x=dodge('fruits',  0.0,  range=p.x_range), top='UMASS', width=0.2, source=source,\n",
    "       color=\"orange\", legend_label=\"Spiking actors (UMASS)\")\n",
    "\n",
    "p.x_range.range_padding = 0.1\n",
    "p.xgrid.grid_line_color = None\n",
    "p.legend.location = \"top_left\"\n",
    "p.legend.orientation = \"horizontal\"\n",
    "\n",
    "show(p)"
   ]
  },
  {
   "cell_type": "code",
   "execution_count": null,
   "metadata": {},
   "outputs": [],
   "source": []
  }
 ]
}